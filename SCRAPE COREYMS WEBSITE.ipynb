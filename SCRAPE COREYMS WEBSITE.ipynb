{
 "cells": [
  {
   "cell_type": "code",
   "execution_count": 30,
   "id": "496344ae",
   "metadata": {},
   "outputs": [],
   "source": [
    "#import library\n",
    "import requests \n",
    "from bs4 import BeautifulSoup\n",
    "import pandas as pd"
   ]
  },
  {
   "cell_type": "code",
   "execution_count": 3,
   "id": "306d81bd",
   "metadata": {},
   "outputs": [],
   "source": [
    "#url of coreyms Website\n",
    "url =\"https://coreyms.com/\"\n",
    "#the html code of this url \n",
    "page = requests.get(url)\n",
    "soup = BeautifulSoup(page.text,\"html.parser\")"
   ]
  },
  {
   "cell_type": "code",
   "execution_count": 28,
   "id": "21654ecc",
   "metadata": {},
   "outputs": [],
   "source": [
    "articles = []\n",
    "#find articles\n",
    "for article in  soup.findAll(\"article\"):\n",
    "    try:\n",
    "        #get the head line\n",
    "        head_line = article.h2.a.text\n",
    "        #get summary description \n",
    "        summary = article.find(\"div\",{\"class\":\"entry-content\"}).p.text\n",
    "        #get youtube url\n",
    "        #get the id of the video \n",
    "        vid_id = article.find(\"iframe\",{\"class\":\"youtube-player\"})['src'].split('/')[4].split('?')[0]\n",
    "        yt_url = f\"https://www.youtube.com/watch?v={vid_id}\"\n",
    "    except:\n",
    "        yt_url = None\n",
    "    finally:\n",
    "        articles.append([head_line,summary,yt_url])"
   ]
  },
  {
   "cell_type": "code",
   "execution_count": 31,
   "id": "17dcb764",
   "metadata": {},
   "outputs": [],
   "source": [
    "DATA = pd.DataFrame(articles,columns=[\"head_line\",\"summary\",\"yt_url\"])"
   ]
  },
  {
   "cell_type": "code",
   "execution_count": 34,
   "id": "0ffc4371",
   "metadata": {},
   "outputs": [],
   "source": [
    "DATA.to_csv('COREYMS_ARTICLES.csv',index=False)"
   ]
  },
  {
   "cell_type": "code",
   "execution_count": null,
   "id": "98be400d",
   "metadata": {},
   "outputs": [],
   "source": []
  }
 ],
 "metadata": {
  "kernelspec": {
   "display_name": "Python 3 (ipykernel)",
   "language": "python",
   "name": "python3"
  },
  "language_info": {
   "codemirror_mode": {
    "name": "ipython",
    "version": 3
   },
   "file_extension": ".py",
   "mimetype": "text/x-python",
   "name": "python",
   "nbconvert_exporter": "python",
   "pygments_lexer": "ipython3",
   "version": "3.11.1"
  }
 },
 "nbformat": 4,
 "nbformat_minor": 5
}
